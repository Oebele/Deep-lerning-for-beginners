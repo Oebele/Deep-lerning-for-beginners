{
  "nbformat": 4,
  "nbformat_minor": 0,
  "metadata": {
    "colab": {
      "name": "Training a Single Neuron.ipynb",
      "provenance": [],
      "collapsed_sections": [],
      "authorship_tag": "ABX9TyMnF4qunCxk0DKN9nUtB3f/",
      "include_colab_link": true
    },
    "kernelspec": {
      "name": "python3",
      "display_name": "Python 3"
    }
  },
  "cells": [
    {
      "cell_type": "markdown",
      "metadata": {
        "id": "view-in-github",
        "colab_type": "text"
      },
      "source": [
        "<a href=\"https://colab.research.google.com/github/Oebele/Deep-lerning-for-beginners/blob/master/Training_a_Single_Neuron.ipynb\" target=\"_parent\"><img src=\"https://colab.research.google.com/assets/colab-badge.svg\" alt=\"Open In Colab\"/></a>"
      ]
    },
    {
      "cell_type": "markdown",
      "metadata": {
        "id": "x4funKS-uTb3"
      },
      "source": [
        "# Training a Single Neuron\n"
      ]
    },
    {
      "cell_type": "code",
      "metadata": {
        "id": "GZ2x0iicuXVW",
        "outputId": "083b2c73-2e2d-47c1-ef8d-d317dd2840c7",
        "colab": {
          "base_uri": "https://localhost:8080/",
          "height": 297
        }
      },
      "source": [
        "import matplotlib.pyplot as plt\n",
        "from sklearn.datasets import make_classification\n",
        "\n",
        "X, y = make_classification(n_samples=100, n_features=2, n_classes=2,\n",
        "                           n_informative=2, n_redundant=0, n_repeated=0,\n",
        "                           n_clusters_per_class=1, class_sep=1.5, \n",
        "                           random_state=5)\n",
        "\n",
        "y[y==0] = -1\n",
        "\n",
        "fig = plt.figure()\n",
        "\n",
        "plt.plot(X[0,0],X[0,1],'rx',label='$-1$ - Negative')\n",
        "plt.plot(X[1,0],X[1,1],'bd',label='$+1$ - Positive')\n",
        "\n",
        "for i in range(len(y)):\n",
        "  x1 = X[i,0]\n",
        "  x2 = X[i,1]\n",
        "  if (y[i] == -1):\n",
        "    plt.plot(x1,x2,'rx')\n",
        "  else:\n",
        "    plt.plot(x1,x2,'bd')\n",
        "plt.xlabel('$x_1$')\n",
        "plt.ylabel('$x_2$')\n",
        "plt.legend()\n",
        "plt.title('Sample two-dimensional data')\n",
        "plt.axis('tight')\n",
        "# plt.savefig('ch.5.two-class.data.png', dpi=350, bbox_inches='tight')\n",
        "# plt.savefig('ch.5.two-class.data.eps', dpi=350, bbox_inches='tight')\n",
        "plt.show()"
      ],
      "execution_count": null,
      "outputs": [
        {
          "output_type": "display_data",
          "data": {
            "image/png": "[encoded data removed]",
            "text/plain": [
              "<Figure size 432x288 with 1 Axes>"
            ]
          },
          "metadata": {
            "tags": [],
            "needs_background": "light"
          }
        }
      ]
    },
    {
      "cell_type": "code",
      "metadata": {
        "id": "YEEVFCz5wUkG",
        "outputId": "fc818481-43cd-4e8e-bcf4-8cce31f64c4b",
        "colab": {
          "base_uri": "https://localhost:8080/",
          "height": 187
        }
      },
      "source": [
        "X[:10]"
      ],
      "execution_count": null,
      "outputs": [
        {
          "output_type": "execute_result",
          "data": {
            "text/plain": [
              "array([[-0.98221702, -0.78206699],\n",
              "       [ 1.91747159, -1.36709816],\n",
              "       [ 1.38378869, -1.42475428],\n",
              "       [ 1.2469239 , -1.7160026 ],\n",
              "       [-0.61161925, -0.42609328],\n",
              "       [-1.08749226, -1.16081696],\n",
              "       [-1.38183821, -1.05448172],\n",
              "       [-2.60674166, -2.49108522],\n",
              "       [-1.066895  , -1.56057167],\n",
              "       [ 2.62945908, -0.84878879]])"
            ]
          },
          "metadata": {
            "tags": []
          },
          "execution_count": 6
        }
      ]
    },
    {
      "cell_type": "code",
      "metadata": {
        "id": "9Ztrp2Ulvodv",
        "outputId": "f97f8056-ad93-4db7-f784-2d17842203ef",
        "colab": {
          "base_uri": "https://localhost:8080/",
          "height": 187
        }
      },
      "source": [
        "import numpy as np\n",
        "N = 100\n",
        "X = np.append(np.ones((N,1)), X, 1)   \n",
        "X[:10]"
      ],
      "execution_count": null,
      "outputs": [
        {
          "output_type": "execute_result",
          "data": {
            "text/plain": [
              "array([[ 1.        , -0.98221702, -0.78206699],\n",
              "       [ 1.        ,  1.91747159, -1.36709816],\n",
              "       [ 1.        ,  1.38378869, -1.42475428],\n",
              "       [ 1.        ,  1.2469239 , -1.7160026 ],\n",
              "       [ 1.        , -0.61161925, -0.42609328],\n",
              "       [ 1.        , -1.08749226, -1.16081696],\n",
              "       [ 1.        , -1.38183821, -1.05448172],\n",
              "       [ 1.        , -2.60674166, -2.49108522],\n",
              "       [ 1.        , -1.066895  , -1.56057167],\n",
              "       [ 1.        ,  2.62945908, -0.84878879]])"
            ]
          },
          "metadata": {
            "tags": []
          },
          "execution_count": 7
        }
      ]
    },
    {
      "cell_type": "markdown",
      "metadata": {
        "id": "jRWn6A-9wm2f"
      },
      "source": [
        "## The perceptron learning algorithm"
      ]
    },
    {
      "cell_type": "code",
      "metadata": {
        "id": "5VkQM1pcwn_J",
        "outputId": "c2419b80-999c-4373-a042-ad198b735e91",
        "colab": {
          "base_uri": "https://localhost:8080/",
          "height": 866
        }
      },
      "source": [
        "import random\n",
        "import numpy as np\n",
        "import matplotlib.pyplot as plt\n",
        "from sklearn.datasets import make_classification\n",
        "\n",
        "def pltPer(X, y, W, it=-1):\n",
        "  title = \"Perceptron Learning Algorithm\"\n",
        "  if it > 0:\n",
        "    title = title + \" After Update #\" + str(it)\n",
        "    \n",
        "  f = plt.figure()\n",
        "  for n in range(len(y)):\n",
        "    if y[n] == 1:\n",
        "      plt.plot(X[n,1],X[n,2],'r+')\n",
        "    else:\n",
        "      plt.plot(X[n,1],X[n,2],'k_')\n",
        "  m, b = -W[1]/W[2], -W[0]/W[2]\n",
        "  l = np.linspace(min(X[:,1]),max(X[:,1]))\n",
        "  plt.plot(l, m*l+b, 'k-')\n",
        "  plt.axis('tight')\n",
        "  plt.xlim(min(X[:,1])-0.1, max(X[:,1])+0.1)\n",
        "  plt.ylim(min(X[:,2])-0.1, max(X[:,2])+0.1)\n",
        "  plt.xlabel(\"$x_1$\")\n",
        "  plt.ylabel(\"$x_2$\")\n",
        "  plt.title(title)\n",
        "  plt.savefig('ch.5.PLA.'+str(it)+'.png', dpi=350, bbox_inches='tight')\n",
        "  plt.savefig('ch.5.PLA.'+str(it)+'.eps', dpi=350, bbox_inches='tight')\n",
        "  plt.show()\n",
        "\n",
        "\n",
        "def classification_error(w, X, y):\n",
        "#   s = np.sign(X.dot(w))\n",
        "#   return sum(s != y)\n",
        "    \n",
        "  err_cnt = 0\n",
        "  N = len(X)\n",
        "  for n in range(N):\n",
        "    s = np.sign(w.T.dot(X[n])) # if this is zero, then :(\n",
        "    if y[n] != s:\n",
        "      err_cnt += 1\n",
        "  print(err_cnt)\n",
        "  return err_cnt\n",
        "\n",
        "def choose_miscl_point(w, X, y):\n",
        "#   for idx in np.random.permutation(len(X)):\n",
        "#     if np.sign(w.T.dot(X[idx])) != y[idx]:\n",
        "#       return X[idx], y[idx]\n",
        "  mispts = []\n",
        "  # Choose a random point among the misclassified\n",
        "  for n in range(len(X)):\n",
        "    if np.sign(w.T @ X[n]) != y[n]:\n",
        "      mispts.append((X[n], y[n]))\n",
        "  #print(len(mispts))\n",
        "  return mispts[random.randrange(0,len(mispts))]\n",
        "\n",
        "# main\n",
        "N = 100\n",
        "random.seed(a = 7)\n",
        "np.random.seed(7)\n",
        "\n",
        "X, y = make_classification(n_samples=N, n_features=2, n_classes=2,\n",
        "                           n_informative=2, n_redundant=0, n_repeated=0,\n",
        "                           n_clusters_per_class=1, class_sep=1.2, \n",
        "                           random_state=5)\n",
        "\n",
        "y[y==0] = -1\n",
        "\n",
        "X_train = np.append(np.ones((N,1)), X, 1)   # add a column of ones\n",
        "\n",
        "# initialize the weights to zeros\n",
        "w = np.zeros(X_train.shape[1])\n",
        "it = 0\n",
        "pltPer(X_train,y,w)  # initial solution (likely bad)\n",
        "\n",
        "# Iterate until all points are correctly classified\n",
        "while classification_error(w, X_train, y) != 0:\n",
        "  it += 1\n",
        "  # Pick random misclassified point\n",
        "  x, s = choose_miscl_point(w, X_train, y)\n",
        "  # Update weights\n",
        "  w += s*x\n",
        "  if it > 1000:\n",
        "    break\n",
        "pltPer(X_train,y,w, it)\n",
        "\n",
        "print(\"Total iterations: \", it)"
      ],
      "execution_count": 10,
      "outputs": [
        {
          "output_type": "stream",
          "text": [
            "/usr/local/lib/python3.6/dist-packages/ipykernel_launcher.py:17: RuntimeWarning: invalid value encountered in double_scalars\n"
          ],
          "name": "stderr"
        },
        {
          "output_type": "display_data",
          "data": {
            "image/png": "[encoded data removed]",
            "text/plain": [
              "<Figure size 432x288 with 1 Axes>"
            ]
          },
          "metadata": {
            "tags": [],
            "needs_background": "light"
          }
        },
        {
          "output_type": "stream",
          "text": [
            "100\n",
            "36\n",
            "1\n",
            "44\n",
            "5\n",
            "12\n",
            "2\n",
            "13\n",
            "4\n",
            "8\n",
            "2\n",
            "10\n",
            "2\n",
            "3\n",
            "0\n"
          ],
          "name": "stdout"
        },
        {
          "output_type": "display_data",
          "data": {
            "image/png": "[encoded data removed]",
            "text/plain": [
              "<Figure size 432x288 with 1 Axes>"
            ]
          },
          "metadata": {
            "tags": [],
            "needs_background": "light"
          }
        },
        {
          "output_type": "stream",
          "text": [
            "Total iterations:  14\n"
          ],
          "name": "stdout"
        }
      ]
    },
    {
      "cell_type": "code",
      "metadata": {
        "id": "s6fQBp26REKm"
      },
      "source": [
        ""
      ],
      "execution_count": null,
      "outputs": []
    }
  ]
}